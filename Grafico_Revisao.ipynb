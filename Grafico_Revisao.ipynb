{
  "nbformat": 4,
  "nbformat_minor": 0,
  "metadata": {
    "colab": {
      "provenance": []
    },
    "kernelspec": {
      "name": "python3",
      "display_name": "Python 3"
    },
    "language_info": {
      "name": "python"
    }
  },
  "cells": [
    {
      "cell_type": "markdown",
      "source": [
        "# Construção do Dataframe"
      ],
      "metadata": {
        "id": "IX8vKaTeSlBw"
      }
    },
    {
      "cell_type": "markdown",
      "source": [
        "## Carregamento dos dados"
      ],
      "metadata": {
        "id": "KZs9QUot23zG"
      }
    },
    {
      "cell_type": "code",
      "source": [
        "!pip install bibtexparser"
      ],
      "metadata": {
        "colab": {
          "base_uri": "https://localhost:8080/"
        },
        "id": "xDGZ7yqRF9Rb",
        "outputId": "77c6b13b-6e4a-48a8-86c8-cf50a8c28cd0"
      },
      "execution_count": null,
      "outputs": [
        {
          "output_type": "stream",
          "name": "stdout",
          "text": [
            "Collecting bibtexparser\n",
            "  Downloading bibtexparser-1.4.3.tar.gz (55 kB)\n",
            "\u001b[?25l     \u001b[90m━━━━━━━━━━━━━━━━━━━━━━━━━━━━━━━━━━━━━━━━\u001b[0m \u001b[32m0.0/55.6 kB\u001b[0m \u001b[31m?\u001b[0m eta \u001b[36m-:--:--\u001b[0m\r\u001b[2K     \u001b[90m━━━━━━━━━━━━━━━━━━━━━━━━━━━━━━━━━━━━━━━━\u001b[0m \u001b[32m55.6/55.6 kB\u001b[0m \u001b[31m2.3 MB/s\u001b[0m eta \u001b[36m0:00:00\u001b[0m\n",
            "\u001b[?25h  Preparing metadata (setup.py) ... \u001b[?25l\u001b[?25hdone\n",
            "Requirement already satisfied: pyparsing>=2.0.3 in /usr/local/lib/python3.11/dist-packages (from bibtexparser) (3.2.3)\n",
            "Building wheels for collected packages: bibtexparser\n",
            "  Building wheel for bibtexparser (setup.py) ... \u001b[?25l\u001b[?25hdone\n",
            "  Created wheel for bibtexparser: filename=bibtexparser-1.4.3-py3-none-any.whl size=43549 sha256=e87a2a11cdeeb9659220b2d97930db0f9bad5a7150c077ed2d785db8ffa2a7db\n",
            "  Stored in directory: /root/.cache/pip/wheels/16/fb/76/306387739cf9d53b1c39b0c8aadbbb17dc05f256756d8fd915\n",
            "Successfully built bibtexparser\n",
            "Installing collected packages: bibtexparser\n",
            "Successfully installed bibtexparser-1.4.3\n"
          ]
        }
      ]
    },
    {
      "cell_type": "code",
      "execution_count": null,
      "metadata": {
        "id": "ifKzR7tL2kLm"
      },
      "outputs": [],
      "source": [
        "import pandas as pd\n",
        "import bibtexparser\n",
        "import re"
      ]
    },
    {
      "cell_type": "code",
      "source": [
        "bib = '/content/included.bib'"
      ],
      "metadata": {
        "id": "k2XdfIQg2z0M"
      },
      "execution_count": null,
      "outputs": []
    },
    {
      "cell_type": "code",
      "source": [
        "# Carregar o arquivo .bib\n",
        "with open(bib, encoding='utf-8') as bibfile:\n",
        "    bib_database = bibtexparser.load(bibfile)"
      ],
      "metadata": {
        "collapsed": true,
        "id": "YEU9-Mrs3Ac1"
      },
      "execution_count": null,
      "outputs": []
    },
    {
      "cell_type": "code",
      "source": [
        "# Obter as entradas como dicionários\n",
        "entries = bib_database.entries"
      ],
      "metadata": {
        "id": "sr6m_xkzGXh5"
      },
      "execution_count": null,
      "outputs": []
    },
    {
      "cell_type": "code",
      "source": [
        "df = pd.DataFrame(entries)"
      ],
      "metadata": {
        "id": "76Qvu2HYG5-Q"
      },
      "execution_count": null,
      "outputs": []
    },
    {
      "cell_type": "code",
      "source": [
        "df['note'][0]"
      ],
      "metadata": {
        "colab": {
          "base_uri": "https://localhost:8080/",
          "height": 53
        },
        "id": "iWNf758rMl_f",
        "outputId": "b4a72997-539b-40e6-f300-ca3d9c57def2"
      },
      "execution_count": null,
      "outputs": [
        {
          "output_type": "execute_result",
          "data": {
            "text/plain": [
              "'Times Cited in Web of Science Core Collection:  0     Total Times Cited:  0     Cited Reference Count:  19 | RAYYAN-INCLUSION: {\"Gabriel\"=>\"Included\"} | RAYYAN-LABELS: Insights para tomada de decisão | USER-NOTES: {\"Gabriel\"=>[\"SIM\", \"SIM\"]}'"
            ],
            "application/vnd.google.colaboratory.intrinsic+json": {
              "type": "string"
            }
          },
          "metadata": {},
          "execution_count": 7
        }
      ]
    },
    {
      "cell_type": "markdown",
      "source": [
        "## Funções para extração e tratamento dos dados"
      ],
      "metadata": {
        "id": "plO43m8avR2J"
      }
    },
    {
      "cell_type": "code",
      "source": [
        "def extract_labels(text):\n",
        "    match = re.search(r'RAYYAN-LABELS\\s*:\\s*(.*?)(\\s*\\||$)', text)\n",
        "    return match.group(1).strip() if match else None"
      ],
      "metadata": {
        "id": "XfB2fN4lMZKk"
      },
      "execution_count": null,
      "outputs": []
    },
    {
      "cell_type": "code",
      "source": [
        "def extract_qdata(text):\n",
        "    match = re.search(r'USER-NOTES\\s*:\\s*{.*?\\[([^\\]]+)\\]}', text)\n",
        "    if match:\n",
        "        first_value = match.group(1).split(',')[0].strip().strip('\"')\n",
        "        return first_value\n",
        "    return None"
      ],
      "metadata": {
        "id": "Ykxd4H7fTTq7"
      },
      "execution_count": null,
      "outputs": []
    },
    {
      "cell_type": "code",
      "source": [
        "def extract_2qdata(text):\n",
        "    match = re.search(r'USER-NOTES\\s*:\\s*{.*?\\[([^\\]]+)\\]}', text)\n",
        "    if match:\n",
        "        values = [v.strip().strip('\"') for v in match.group(1).split(',')]\n",
        "        if len(values) > 1:\n",
        "            return values[1]  # retorna o segundo valor, se existir\n",
        "    return None"
      ],
      "metadata": {
        "id": "Qfb08R2tZ3pY"
      },
      "execution_count": null,
      "outputs": []
    },
    {
      "cell_type": "code",
      "source": [
        "def substitute_labels(df_column):\n",
        "    # Converte a coluna para string\n",
        "    df_column = df_column.astype('string')\n",
        "    substitutes = {'Suporte à aprendizagem e personalização': 'Learning support and personalization',\n",
        "                   'Insights para tomada de decisão': 'Data-driven insights for decision-making',\n",
        "                   'Promoção do engajamento e motivação': 'Promotion of engagement and motivation',\n",
        "                   'Acessibilidade e usabilidade': 'Accessibility and usability improvements',\n",
        "                   'SIM': 'YES',\n",
        "                   'NÃO': 'NO'}\n",
        "    df_column = df_column.replace(substitutes)\n",
        "    return df_column"
      ],
      "metadata": {
        "id": "ZFYsZOSEviYn"
      },
      "execution_count": null,
      "outputs": []
    },
    {
      "cell_type": "markdown",
      "source": [
        "## Tratamento dos dados"
      ],
      "metadata": {
        "id": "b7yHkFpevbQ0"
      }
    },
    {
      "cell_type": "code",
      "source": [
        "data = df[['title', 'year']]"
      ],
      "metadata": {
        "id": "HpJ3XyD6x3jN"
      },
      "execution_count": null,
      "outputs": []
    },
    {
      "cell_type": "code",
      "source": [
        "# Ano para número\n",
        "data['year'] = pd.to_numeric(data['year'].copy())"
      ],
      "metadata": {
        "id": "yKvSlJdsQT1l",
        "outputId": "2190a796-1a7d-4c98-d227-198b62106dff",
        "colab": {
          "base_uri": "https://localhost:8080/"
        }
      },
      "execution_count": null,
      "outputs": [
        {
          "output_type": "stream",
          "name": "stderr",
          "text": [
            "/tmp/ipython-input-13-1027419235.py:2: SettingWithCopyWarning: \n",
            "A value is trying to be set on a copy of a slice from a DataFrame.\n",
            "Try using .loc[row_indexer,col_indexer] = value instead\n",
            "\n",
            "See the caveats in the documentation: https://pandas.pydata.org/pandas-docs/stable/user_guide/indexing.html#returning-a-view-versus-a-copy\n",
            "  data['year'] = pd.to_numeric(data['year'].copy())\n"
          ]
        }
      ]
    },
    {
      "cell_type": "code",
      "source": [
        "data['category'] = df['note'].copy().apply(extract_labels)"
      ],
      "metadata": {
        "id": "2wLLs211M-m-",
        "outputId": "62d5999b-a8cc-4b4b-8046-0cda226dbdb8",
        "colab": {
          "base_uri": "https://localhost:8080/"
        }
      },
      "execution_count": null,
      "outputs": [
        {
          "output_type": "stream",
          "name": "stderr",
          "text": [
            "/tmp/ipython-input-14-3078172122.py:1: SettingWithCopyWarning: \n",
            "A value is trying to be set on a copy of a slice from a DataFrame.\n",
            "Try using .loc[row_indexer,col_indexer] = value instead\n",
            "\n",
            "See the caveats in the documentation: https://pandas.pydata.org/pandas-docs/stable/user_guide/indexing.html#returning-a-view-versus-a-copy\n",
            "  data['category'] = df['note'].copy().apply(extract_labels)\n"
          ]
        }
      ]
    },
    {
      "cell_type": "code",
      "source": [
        "data['category'] = substitute_labels(data['category'].copy())"
      ],
      "metadata": {
        "id": "hCECmpEZzkgv",
        "outputId": "16405543-5c8a-451d-ee89-2de1ba1d3024",
        "colab": {
          "base_uri": "https://localhost:8080/"
        }
      },
      "execution_count": null,
      "outputs": [
        {
          "output_type": "stream",
          "name": "stderr",
          "text": [
            "/tmp/ipython-input-15-3405564213.py:1: SettingWithCopyWarning: \n",
            "A value is trying to be set on a copy of a slice from a DataFrame.\n",
            "Try using .loc[row_indexer,col_indexer] = value instead\n",
            "\n",
            "See the caveats in the documentation: https://pandas.pydata.org/pandas-docs/stable/user_guide/indexing.html#returning-a-view-versus-a-copy\n",
            "  data['category'] = substitute_labels(data['category'].copy())\n"
          ]
        }
      ]
    },
    {
      "cell_type": "code",
      "source": [
        "data['presents-qdata'] = substitute_labels(df['note'].copy().apply(extract_qdata))"
      ],
      "metadata": {
        "id": "43ToyvoAWNIu",
        "outputId": "06ad355d-711b-4ad0-d43d-af7cdbaf47ab",
        "colab": {
          "base_uri": "https://localhost:8080/"
        }
      },
      "execution_count": null,
      "outputs": [
        {
          "output_type": "stream",
          "name": "stderr",
          "text": [
            "/tmp/ipython-input-16-2873694114.py:1: SettingWithCopyWarning: \n",
            "A value is trying to be set on a copy of a slice from a DataFrame.\n",
            "Try using .loc[row_indexer,col_indexer] = value instead\n",
            "\n",
            "See the caveats in the documentation: https://pandas.pydata.org/pandas-docs/stable/user_guide/indexing.html#returning-a-view-versus-a-copy\n",
            "  data['presents-qdata'] = substitute_labels(df['note'].copy().apply(extract_qdata))\n"
          ]
        }
      ]
    },
    {
      "cell_type": "code",
      "source": [
        "data['applied'] = substitute_labels(df['note'].copy().apply(extract_2qdata))"
      ],
      "metadata": {
        "id": "fEMV9yNBaCGW",
        "outputId": "5118e63e-84fe-456b-fc71-836a21977de5",
        "colab": {
          "base_uri": "https://localhost:8080/"
        }
      },
      "execution_count": null,
      "outputs": [
        {
          "output_type": "stream",
          "name": "stderr",
          "text": [
            "/tmp/ipython-input-17-623993863.py:1: SettingWithCopyWarning: \n",
            "A value is trying to be set on a copy of a slice from a DataFrame.\n",
            "Try using .loc[row_indexer,col_indexer] = value instead\n",
            "\n",
            "See the caveats in the documentation: https://pandas.pydata.org/pandas-docs/stable/user_guide/indexing.html#returning-a-view-versus-a-copy\n",
            "  data['applied'] = substitute_labels(df['note'].copy().apply(extract_2qdata))\n"
          ]
        }
      ]
    },
    {
      "cell_type": "code",
      "source": [
        "data"
      ],
      "metadata": {
        "colab": {
          "base_uri": "https://localhost:8080/",
          "height": 645
        },
        "id": "RfAcnfUd0aTp",
        "outputId": "6ad1da54-1841-4b28-e924-40ad6f1756ad"
      },
      "execution_count": null,
      "outputs": [
        {
          "output_type": "execute_result",
          "data": {
            "text/plain": [
              "                                                title  year  \\\n",
              "0   The analysis of emotions for academic performa...  2022   \n",
              "1   ENHANCING SOCIO-PEDAGOGICAL ENGAGEMENT IN MOOD...  2024   \n",
              "2   Generative AI for Customizable Learning Experi...  2024   \n",
              "3   Participation in Online Courses and Interactio...  2019   \n",
              "4   Unveiling Uncertainty: Supporting Learners Thr...  2023   \n",
              "5   An intelligent platform with automatic assessm...  2019   \n",
              "6   Understanding Collaborative Learning Processes...  2025   \n",
              "7   The NAJEH Effect: How ChatGPT is Shaping the F...  2024   \n",
              "8     Doc2Vec based Question and Answer Search System  2021   \n",
              "9   AI in education: Evaluating the impact of mood...  2025   \n",
              "10  Hi! Tell me how to do it: examination of under...  2024   \n",
              "11  IBM Watson Application as FAQ Assistant about ...  2019   \n",
              "12  Enhancing personalized learning: AI-driven ide...  2024   \n",
              "13  Integration of a Chatbot to Facilitate Access ...  2024   \n",
              "14                       AI-powered Digital Classroom  2022   \n",
              "15  A Recommendation System Framework for Educatio...  2022   \n",
              "16  Artificial Intelligence Empowers Gamification:...  2023   \n",
              "17  The Impact of Prompt Engineering and a Generat...  2025   \n",
              "18  AI Can Help Instructors Help Students: An LLM-...  2024   \n",
              "\n",
              "                                    category presents-qdata applied  \n",
              "0   Data-driven insights for decision-making            YES     YES  \n",
              "1     Promotion of engagement and motivation             NO     YES  \n",
              "2       Learning support and personalization            YES     YES  \n",
              "3     Promotion of engagement and motivation            YES     YES  \n",
              "4   Data-driven insights for decision-making             NO     YES  \n",
              "5     Promotion of engagement and motivation            YES     YES  \n",
              "6   Data-driven insights for decision-making            YES     YES  \n",
              "7       Learning support and personalization             NO     YES  \n",
              "8       Learning support and personalization             NO     YES  \n",
              "9       Learning support and personalization            YES     YES  \n",
              "10    Promotion of engagement and motivation             NO     YES  \n",
              "11    Promotion of engagement and motivation             NO     YES  \n",
              "12      Learning support and personalization             NO     YES  \n",
              "13    Promotion of engagement and motivation             NO      NO  \n",
              "14      Learning support and personalization             NO      NO  \n",
              "15      Learning support and personalization             NO     YES  \n",
              "16      Learning support and personalization            YES     YES  \n",
              "17      Learning support and personalization             NO     YES  \n",
              "18    Promotion of engagement and motivation             NO     YES  "
            ],
            "text/html": [
              "\n",
              "  <div id=\"df-f4e61525-e6dc-468e-98ff-38eaf555eee9\" class=\"colab-df-container\">\n",
              "    <div>\n",
              "<style scoped>\n",
              "    .dataframe tbody tr th:only-of-type {\n",
              "        vertical-align: middle;\n",
              "    }\n",
              "\n",
              "    .dataframe tbody tr th {\n",
              "        vertical-align: top;\n",
              "    }\n",
              "\n",
              "    .dataframe thead th {\n",
              "        text-align: right;\n",
              "    }\n",
              "</style>\n",
              "<table border=\"1\" class=\"dataframe\">\n",
              "  <thead>\n",
              "    <tr style=\"text-align: right;\">\n",
              "      <th></th>\n",
              "      <th>title</th>\n",
              "      <th>year</th>\n",
              "      <th>category</th>\n",
              "      <th>presents-qdata</th>\n",
              "      <th>applied</th>\n",
              "    </tr>\n",
              "  </thead>\n",
              "  <tbody>\n",
              "    <tr>\n",
              "      <th>0</th>\n",
              "      <td>The analysis of emotions for academic performa...</td>\n",
              "      <td>2022</td>\n",
              "      <td>Data-driven insights for decision-making</td>\n",
              "      <td>YES</td>\n",
              "      <td>YES</td>\n",
              "    </tr>\n",
              "    <tr>\n",
              "      <th>1</th>\n",
              "      <td>ENHANCING SOCIO-PEDAGOGICAL ENGAGEMENT IN MOOD...</td>\n",
              "      <td>2024</td>\n",
              "      <td>Promotion of engagement and motivation</td>\n",
              "      <td>NO</td>\n",
              "      <td>YES</td>\n",
              "    </tr>\n",
              "    <tr>\n",
              "      <th>2</th>\n",
              "      <td>Generative AI for Customizable Learning Experi...</td>\n",
              "      <td>2024</td>\n",
              "      <td>Learning support and personalization</td>\n",
              "      <td>YES</td>\n",
              "      <td>YES</td>\n",
              "    </tr>\n",
              "    <tr>\n",
              "      <th>3</th>\n",
              "      <td>Participation in Online Courses and Interactio...</td>\n",
              "      <td>2019</td>\n",
              "      <td>Promotion of engagement and motivation</td>\n",
              "      <td>YES</td>\n",
              "      <td>YES</td>\n",
              "    </tr>\n",
              "    <tr>\n",
              "      <th>4</th>\n",
              "      <td>Unveiling Uncertainty: Supporting Learners Thr...</td>\n",
              "      <td>2023</td>\n",
              "      <td>Data-driven insights for decision-making</td>\n",
              "      <td>NO</td>\n",
              "      <td>YES</td>\n",
              "    </tr>\n",
              "    <tr>\n",
              "      <th>5</th>\n",
              "      <td>An intelligent platform with automatic assessm...</td>\n",
              "      <td>2019</td>\n",
              "      <td>Promotion of engagement and motivation</td>\n",
              "      <td>YES</td>\n",
              "      <td>YES</td>\n",
              "    </tr>\n",
              "    <tr>\n",
              "      <th>6</th>\n",
              "      <td>Understanding Collaborative Learning Processes...</td>\n",
              "      <td>2025</td>\n",
              "      <td>Data-driven insights for decision-making</td>\n",
              "      <td>YES</td>\n",
              "      <td>YES</td>\n",
              "    </tr>\n",
              "    <tr>\n",
              "      <th>7</th>\n",
              "      <td>The NAJEH Effect: How ChatGPT is Shaping the F...</td>\n",
              "      <td>2024</td>\n",
              "      <td>Learning support and personalization</td>\n",
              "      <td>NO</td>\n",
              "      <td>YES</td>\n",
              "    </tr>\n",
              "    <tr>\n",
              "      <th>8</th>\n",
              "      <td>Doc2Vec based Question and Answer Search System</td>\n",
              "      <td>2021</td>\n",
              "      <td>Learning support and personalization</td>\n",
              "      <td>NO</td>\n",
              "      <td>YES</td>\n",
              "    </tr>\n",
              "    <tr>\n",
              "      <th>9</th>\n",
              "      <td>AI in education: Evaluating the impact of mood...</td>\n",
              "      <td>2025</td>\n",
              "      <td>Learning support and personalization</td>\n",
              "      <td>YES</td>\n",
              "      <td>YES</td>\n",
              "    </tr>\n",
              "    <tr>\n",
              "      <th>10</th>\n",
              "      <td>Hi! Tell me how to do it: examination of under...</td>\n",
              "      <td>2024</td>\n",
              "      <td>Promotion of engagement and motivation</td>\n",
              "      <td>NO</td>\n",
              "      <td>YES</td>\n",
              "    </tr>\n",
              "    <tr>\n",
              "      <th>11</th>\n",
              "      <td>IBM Watson Application as FAQ Assistant about ...</td>\n",
              "      <td>2019</td>\n",
              "      <td>Promotion of engagement and motivation</td>\n",
              "      <td>NO</td>\n",
              "      <td>YES</td>\n",
              "    </tr>\n",
              "    <tr>\n",
              "      <th>12</th>\n",
              "      <td>Enhancing personalized learning: AI-driven ide...</td>\n",
              "      <td>2024</td>\n",
              "      <td>Learning support and personalization</td>\n",
              "      <td>NO</td>\n",
              "      <td>YES</td>\n",
              "    </tr>\n",
              "    <tr>\n",
              "      <th>13</th>\n",
              "      <td>Integration of a Chatbot to Facilitate Access ...</td>\n",
              "      <td>2024</td>\n",
              "      <td>Promotion of engagement and motivation</td>\n",
              "      <td>NO</td>\n",
              "      <td>NO</td>\n",
              "    </tr>\n",
              "    <tr>\n",
              "      <th>14</th>\n",
              "      <td>AI-powered Digital Classroom</td>\n",
              "      <td>2022</td>\n",
              "      <td>Learning support and personalization</td>\n",
              "      <td>NO</td>\n",
              "      <td>NO</td>\n",
              "    </tr>\n",
              "    <tr>\n",
              "      <th>15</th>\n",
              "      <td>A Recommendation System Framework for Educatio...</td>\n",
              "      <td>2022</td>\n",
              "      <td>Learning support and personalization</td>\n",
              "      <td>NO</td>\n",
              "      <td>YES</td>\n",
              "    </tr>\n",
              "    <tr>\n",
              "      <th>16</th>\n",
              "      <td>Artificial Intelligence Empowers Gamification:...</td>\n",
              "      <td>2023</td>\n",
              "      <td>Learning support and personalization</td>\n",
              "      <td>YES</td>\n",
              "      <td>YES</td>\n",
              "    </tr>\n",
              "    <tr>\n",
              "      <th>17</th>\n",
              "      <td>The Impact of Prompt Engineering and a Generat...</td>\n",
              "      <td>2025</td>\n",
              "      <td>Learning support and personalization</td>\n",
              "      <td>NO</td>\n",
              "      <td>YES</td>\n",
              "    </tr>\n",
              "    <tr>\n",
              "      <th>18</th>\n",
              "      <td>AI Can Help Instructors Help Students: An LLM-...</td>\n",
              "      <td>2024</td>\n",
              "      <td>Promotion of engagement and motivation</td>\n",
              "      <td>NO</td>\n",
              "      <td>YES</td>\n",
              "    </tr>\n",
              "  </tbody>\n",
              "</table>\n",
              "</div>\n",
              "    <div class=\"colab-df-buttons\">\n",
              "\n",
              "  <div class=\"colab-df-container\">\n",
              "    <button class=\"colab-df-convert\" onclick=\"convertToInteractive('df-f4e61525-e6dc-468e-98ff-38eaf555eee9')\"\n",
              "            title=\"Convert this dataframe to an interactive table.\"\n",
              "            style=\"display:none;\">\n",
              "\n",
              "  <svg xmlns=\"http://www.w3.org/2000/svg\" height=\"24px\" viewBox=\"0 -960 960 960\">\n",
              "    <path d=\"M120-120v-720h720v720H120Zm60-500h600v-160H180v160Zm220 220h160v-160H400v160Zm0 220h160v-160H400v160ZM180-400h160v-160H180v160Zm440 0h160v-160H620v160ZM180-180h160v-160H180v160Zm440 0h160v-160H620v160Z\"/>\n",
              "  </svg>\n",
              "    </button>\n",
              "\n",
              "  <style>\n",
              "    .colab-df-container {\n",
              "      display:flex;\n",
              "      gap: 12px;\n",
              "    }\n",
              "\n",
              "    .colab-df-convert {\n",
              "      background-color: #E8F0FE;\n",
              "      border: none;\n",
              "      border-radius: 50%;\n",
              "      cursor: pointer;\n",
              "      display: none;\n",
              "      fill: #1967D2;\n",
              "      height: 32px;\n",
              "      padding: 0 0 0 0;\n",
              "      width: 32px;\n",
              "    }\n",
              "\n",
              "    .colab-df-convert:hover {\n",
              "      background-color: #E2EBFA;\n",
              "      box-shadow: 0px 1px 2px rgba(60, 64, 67, 0.3), 0px 1px 3px 1px rgba(60, 64, 67, 0.15);\n",
              "      fill: #174EA6;\n",
              "    }\n",
              "\n",
              "    .colab-df-buttons div {\n",
              "      margin-bottom: 4px;\n",
              "    }\n",
              "\n",
              "    [theme=dark] .colab-df-convert {\n",
              "      background-color: #3B4455;\n",
              "      fill: #D2E3FC;\n",
              "    }\n",
              "\n",
              "    [theme=dark] .colab-df-convert:hover {\n",
              "      background-color: #434B5C;\n",
              "      box-shadow: 0px 1px 3px 1px rgba(0, 0, 0, 0.15);\n",
              "      filter: drop-shadow(0px 1px 2px rgba(0, 0, 0, 0.3));\n",
              "      fill: #FFFFFF;\n",
              "    }\n",
              "  </style>\n",
              "\n",
              "    <script>\n",
              "      const buttonEl =\n",
              "        document.querySelector('#df-f4e61525-e6dc-468e-98ff-38eaf555eee9 button.colab-df-convert');\n",
              "      buttonEl.style.display =\n",
              "        google.colab.kernel.accessAllowed ? 'block' : 'none';\n",
              "\n",
              "      async function convertToInteractive(key) {\n",
              "        const element = document.querySelector('#df-f4e61525-e6dc-468e-98ff-38eaf555eee9');\n",
              "        const dataTable =\n",
              "          await google.colab.kernel.invokeFunction('convertToInteractive',\n",
              "                                                    [key], {});\n",
              "        if (!dataTable) return;\n",
              "\n",
              "        const docLinkHtml = 'Like what you see? Visit the ' +\n",
              "          '<a target=\"_blank\" href=https://colab.research.google.com/notebooks/data_table.ipynb>data table notebook</a>'\n",
              "          + ' to learn more about interactive tables.';\n",
              "        element.innerHTML = '';\n",
              "        dataTable['output_type'] = 'display_data';\n",
              "        await google.colab.output.renderOutput(dataTable, element);\n",
              "        const docLink = document.createElement('div');\n",
              "        docLink.innerHTML = docLinkHtml;\n",
              "        element.appendChild(docLink);\n",
              "      }\n",
              "    </script>\n",
              "  </div>\n",
              "\n",
              "\n",
              "    <div id=\"df-9637f8f3-6f87-47c6-9f31-06b85b502343\">\n",
              "      <button class=\"colab-df-quickchart\" onclick=\"quickchart('df-9637f8f3-6f87-47c6-9f31-06b85b502343')\"\n",
              "                title=\"Suggest charts\"\n",
              "                style=\"display:none;\">\n",
              "\n",
              "<svg xmlns=\"http://www.w3.org/2000/svg\" height=\"24px\"viewBox=\"0 0 24 24\"\n",
              "     width=\"24px\">\n",
              "    <g>\n",
              "        <path d=\"M19 3H5c-1.1 0-2 .9-2 2v14c0 1.1.9 2 2 2h14c1.1 0 2-.9 2-2V5c0-1.1-.9-2-2-2zM9 17H7v-7h2v7zm4 0h-2V7h2v10zm4 0h-2v-4h2v4z\"/>\n",
              "    </g>\n",
              "</svg>\n",
              "      </button>\n",
              "\n",
              "<style>\n",
              "  .colab-df-quickchart {\n",
              "      --bg-color: #E8F0FE;\n",
              "      --fill-color: #1967D2;\n",
              "      --hover-bg-color: #E2EBFA;\n",
              "      --hover-fill-color: #174EA6;\n",
              "      --disabled-fill-color: #AAA;\n",
              "      --disabled-bg-color: #DDD;\n",
              "  }\n",
              "\n",
              "  [theme=dark] .colab-df-quickchart {\n",
              "      --bg-color: #3B4455;\n",
              "      --fill-color: #D2E3FC;\n",
              "      --hover-bg-color: #434B5C;\n",
              "      --hover-fill-color: #FFFFFF;\n",
              "      --disabled-bg-color: #3B4455;\n",
              "      --disabled-fill-color: #666;\n",
              "  }\n",
              "\n",
              "  .colab-df-quickchart {\n",
              "    background-color: var(--bg-color);\n",
              "    border: none;\n",
              "    border-radius: 50%;\n",
              "    cursor: pointer;\n",
              "    display: none;\n",
              "    fill: var(--fill-color);\n",
              "    height: 32px;\n",
              "    padding: 0;\n",
              "    width: 32px;\n",
              "  }\n",
              "\n",
              "  .colab-df-quickchart:hover {\n",
              "    background-color: var(--hover-bg-color);\n",
              "    box-shadow: 0 1px 2px rgba(60, 64, 67, 0.3), 0 1px 3px 1px rgba(60, 64, 67, 0.15);\n",
              "    fill: var(--button-hover-fill-color);\n",
              "  }\n",
              "\n",
              "  .colab-df-quickchart-complete:disabled,\n",
              "  .colab-df-quickchart-complete:disabled:hover {\n",
              "    background-color: var(--disabled-bg-color);\n",
              "    fill: var(--disabled-fill-color);\n",
              "    box-shadow: none;\n",
              "  }\n",
              "\n",
              "  .colab-df-spinner {\n",
              "    border: 2px solid var(--fill-color);\n",
              "    border-color: transparent;\n",
              "    border-bottom-color: var(--fill-color);\n",
              "    animation:\n",
              "      spin 1s steps(1) infinite;\n",
              "  }\n",
              "\n",
              "  @keyframes spin {\n",
              "    0% {\n",
              "      border-color: transparent;\n",
              "      border-bottom-color: var(--fill-color);\n",
              "      border-left-color: var(--fill-color);\n",
              "    }\n",
              "    20% {\n",
              "      border-color: transparent;\n",
              "      border-left-color: var(--fill-color);\n",
              "      border-top-color: var(--fill-color);\n",
              "    }\n",
              "    30% {\n",
              "      border-color: transparent;\n",
              "      border-left-color: var(--fill-color);\n",
              "      border-top-color: var(--fill-color);\n",
              "      border-right-color: var(--fill-color);\n",
              "    }\n",
              "    40% {\n",
              "      border-color: transparent;\n",
              "      border-right-color: var(--fill-color);\n",
              "      border-top-color: var(--fill-color);\n",
              "    }\n",
              "    60% {\n",
              "      border-color: transparent;\n",
              "      border-right-color: var(--fill-color);\n",
              "    }\n",
              "    80% {\n",
              "      border-color: transparent;\n",
              "      border-right-color: var(--fill-color);\n",
              "      border-bottom-color: var(--fill-color);\n",
              "    }\n",
              "    90% {\n",
              "      border-color: transparent;\n",
              "      border-bottom-color: var(--fill-color);\n",
              "    }\n",
              "  }\n",
              "</style>\n",
              "\n",
              "      <script>\n",
              "        async function quickchart(key) {\n",
              "          const quickchartButtonEl =\n",
              "            document.querySelector('#' + key + ' button');\n",
              "          quickchartButtonEl.disabled = true;  // To prevent multiple clicks.\n",
              "          quickchartButtonEl.classList.add('colab-df-spinner');\n",
              "          try {\n",
              "            const charts = await google.colab.kernel.invokeFunction(\n",
              "                'suggestCharts', [key], {});\n",
              "          } catch (error) {\n",
              "            console.error('Error during call to suggestCharts:', error);\n",
              "          }\n",
              "          quickchartButtonEl.classList.remove('colab-df-spinner');\n",
              "          quickchartButtonEl.classList.add('colab-df-quickchart-complete');\n",
              "        }\n",
              "        (() => {\n",
              "          let quickchartButtonEl =\n",
              "            document.querySelector('#df-9637f8f3-6f87-47c6-9f31-06b85b502343 button');\n",
              "          quickchartButtonEl.style.display =\n",
              "            google.colab.kernel.accessAllowed ? 'block' : 'none';\n",
              "        })();\n",
              "      </script>\n",
              "    </div>\n",
              "\n",
              "  <div id=\"id_794412e7-5761-4169-b1fc-e5b603dbf86c\">\n",
              "    <style>\n",
              "      .colab-df-generate {\n",
              "        background-color: #E8F0FE;\n",
              "        border: none;\n",
              "        border-radius: 50%;\n",
              "        cursor: pointer;\n",
              "        display: none;\n",
              "        fill: #1967D2;\n",
              "        height: 32px;\n",
              "        padding: 0 0 0 0;\n",
              "        width: 32px;\n",
              "      }\n",
              "\n",
              "      .colab-df-generate:hover {\n",
              "        background-color: #E2EBFA;\n",
              "        box-shadow: 0px 1px 2px rgba(60, 64, 67, 0.3), 0px 1px 3px 1px rgba(60, 64, 67, 0.15);\n",
              "        fill: #174EA6;\n",
              "      }\n",
              "\n",
              "      [theme=dark] .colab-df-generate {\n",
              "        background-color: #3B4455;\n",
              "        fill: #D2E3FC;\n",
              "      }\n",
              "\n",
              "      [theme=dark] .colab-df-generate:hover {\n",
              "        background-color: #434B5C;\n",
              "        box-shadow: 0px 1px 3px 1px rgba(0, 0, 0, 0.15);\n",
              "        filter: drop-shadow(0px 1px 2px rgba(0, 0, 0, 0.3));\n",
              "        fill: #FFFFFF;\n",
              "      }\n",
              "    </style>\n",
              "    <button class=\"colab-df-generate\" onclick=\"generateWithVariable('data')\"\n",
              "            title=\"Generate code using this dataframe.\"\n",
              "            style=\"display:none;\">\n",
              "\n",
              "  <svg xmlns=\"http://www.w3.org/2000/svg\" height=\"24px\"viewBox=\"0 0 24 24\"\n",
              "       width=\"24px\">\n",
              "    <path d=\"M7,19H8.4L18.45,9,17,7.55,7,17.6ZM5,21V16.75L18.45,3.32a2,2,0,0,1,2.83,0l1.4,1.43a1.91,1.91,0,0,1,.58,1.4,1.91,1.91,0,0,1-.58,1.4L9.25,21ZM18.45,9,17,7.55Zm-12,3A5.31,5.31,0,0,0,4.9,8.1,5.31,5.31,0,0,0,1,6.5,5.31,5.31,0,0,0,4.9,4.9,5.31,5.31,0,0,0,6.5,1,5.31,5.31,0,0,0,8.1,4.9,5.31,5.31,0,0,0,12,6.5,5.46,5.46,0,0,0,6.5,12Z\"/>\n",
              "  </svg>\n",
              "    </button>\n",
              "    <script>\n",
              "      (() => {\n",
              "      const buttonEl =\n",
              "        document.querySelector('#id_794412e7-5761-4169-b1fc-e5b603dbf86c button.colab-df-generate');\n",
              "      buttonEl.style.display =\n",
              "        google.colab.kernel.accessAllowed ? 'block' : 'none';\n",
              "\n",
              "      buttonEl.onclick = () => {\n",
              "        google.colab.notebook.generateWithVariable('data');\n",
              "      }\n",
              "      })();\n",
              "    </script>\n",
              "  </div>\n",
              "\n",
              "    </div>\n",
              "  </div>\n"
            ],
            "application/vnd.google.colaboratory.intrinsic+json": {
              "type": "dataframe",
              "variable_name": "data",
              "summary": "{\n  \"name\": \"data\",\n  \"rows\": 19,\n  \"fields\": [\n    {\n      \"column\": \"title\",\n      \"properties\": {\n        \"dtype\": \"string\",\n        \"num_unique_values\": 19,\n        \"samples\": [\n          \"The analysis of emotions for academic performance prediction\",\n          \"An intelligent platform with automatic assessment and engagement features for active online discussions\",\n          \"IBM Watson Application as FAQ Assistant about Moodle\"\n        ],\n        \"semantic_type\": \"\",\n        \"description\": \"\"\n      }\n    },\n    {\n      \"column\": \"year\",\n      \"properties\": {\n        \"dtype\": \"number\",\n        \"std\": 2,\n        \"min\": 2019,\n        \"max\": 2025,\n        \"num_unique_values\": 6,\n        \"samples\": [\n          2022,\n          2024,\n          2021\n        ],\n        \"semantic_type\": \"\",\n        \"description\": \"\"\n      }\n    },\n    {\n      \"column\": \"category\",\n      \"properties\": {\n        \"dtype\": \"string\",\n        \"num_unique_values\": 3,\n        \"samples\": [\n          \"Data-driven insights for decision-making\",\n          \"Promotion of engagement and motivation\",\n          \"Learning support and personalization\"\n        ],\n        \"semantic_type\": \"\",\n        \"description\": \"\"\n      }\n    },\n    {\n      \"column\": \"presents-qdata\",\n      \"properties\": {\n        \"dtype\": \"string\",\n        \"num_unique_values\": 2,\n        \"samples\": [\n          \"NO\",\n          \"YES\"\n        ],\n        \"semantic_type\": \"\",\n        \"description\": \"\"\n      }\n    },\n    {\n      \"column\": \"applied\",\n      \"properties\": {\n        \"dtype\": \"string\",\n        \"num_unique_values\": 2,\n        \"samples\": [\n          \"NO\",\n          \"YES\"\n        ],\n        \"semantic_type\": \"\",\n        \"description\": \"\"\n      }\n    }\n  ]\n}"
            }
          },
          "metadata": {},
          "execution_count": 18
        }
      ]
    },
    {
      "cell_type": "markdown",
      "source": [
        "## Ordenação e exportação do dataframe"
      ],
      "metadata": {
        "id": "U_dXivOE1XFS"
      }
    },
    {
      "cell_type": "code",
      "source": [
        "#data = data.sort_values(by='presents-qdata', ascending=True, ignore_index=True)\n",
        "data = data.sort_values(by='year', ascending=True, ignore_index=True)\n",
        "#data = data.sort_values(by='title', ascending=True, ignore_index=True)\n",
        "#data"
      ],
      "metadata": {
        "id": "X__rXlJobN3y"
      },
      "execution_count": null,
      "outputs": []
    },
    {
      "cell_type": "code",
      "source": [
        "data.to_excel('tabela-de-revisao.xlsx', index=False, sheet_name='Resultados')"
      ],
      "metadata": {
        "id": "9kVIEmH7bmsT"
      },
      "execution_count": null,
      "outputs": []
    },
    {
      "cell_type": "markdown",
      "source": [
        "# Criação dos Gráficos"
      ],
      "metadata": {
        "id": "8JCI3V9lSusV"
      }
    },
    {
      "cell_type": "code",
      "source": [
        "import plotly.graph_objects as go\n",
        "import plotly.colors as pc"
      ],
      "metadata": {
        "id": "3NR-z6wdS8uT"
      },
      "execution_count": null,
      "outputs": []
    },
    {
      "cell_type": "code",
      "source": [
        "fig_data = data.copy()"
      ],
      "metadata": {
        "id": "D85x9TNQrMla"
      },
      "execution_count": null,
      "outputs": []
    },
    {
      "cell_type": "code",
      "source": [
        "# ano → nome\n",
        "fluxo1 = fig_data[['title', 'year']].copy()\n",
        "fluxo1.columns = ['source', 'target']\n",
        "\n",
        "# nome → categoria\n",
        "fluxo2 = fig_data[['year', 'category']].copy()\n",
        "fluxo2.columns = ['source', 'target']\n",
        "\n",
        "# categoria → aplicação\n",
        "fluxo3 = fig_data[['category', 'presents-qdata']].copy()\n",
        "fluxo3.columns = ['source', 'target']\n",
        "\n",
        "\n",
        "# Combina os fluxos\n",
        "sankey_df = pd.concat([fluxo2, fluxo3], ignore_index=True)"
      ],
      "metadata": {
        "id": "h6n9IWLqq8nn"
      },
      "execution_count": null,
      "outputs": []
    },
    {
      "cell_type": "code",
      "source": [
        "# Cria a lista única de nós\n",
        "labels = pd.unique(sankey_df[['source', 'target']].values.ravel())\n",
        "label_map = {label: i for i, label in enumerate(labels)}\n",
        "\n",
        "# Mapeia o source/target para os IDs\n",
        "sankey_df['source_id'] = sankey_df['source'].map(label_map)\n",
        "sankey_df['target_id'] = sankey_df['target'].map(label_map)"
      ],
      "metadata": {
        "id": "5N1NH0ePq5PS"
      },
      "execution_count": null,
      "outputs": []
    },
    {
      "cell_type": "code",
      "source": [
        "label_map"
      ],
      "metadata": {
        "colab": {
          "base_uri": "https://localhost:8080/"
        },
        "id": "TAdraM9Wz7ta",
        "outputId": "80f99e67-ce3e-4e2e-9aa0-772cd627cdd1"
      },
      "execution_count": null,
      "outputs": [
        {
          "output_type": "execute_result",
          "data": {
            "text/plain": [
              "{2022: 0,\n",
              " 'Data-driven insights for decision-making': 1,\n",
              " 2024: 2,\n",
              " 'Promotion of engagement and motivation': 3,\n",
              " 'Learning support and personalization': 4,\n",
              " 2019: 5,\n",
              " 2023: 6,\n",
              " 2025: 7,\n",
              " 2021: 8,\n",
              " 'YES': 9,\n",
              " 'NO': 10}"
            ]
          },
          "metadata": {},
          "execution_count": 35
        }
      ]
    },
    {
      "cell_type": "code",
      "source": [
        "# Conta os fluxos (agrupamento)\n",
        "sankey_df = sankey_df.value_counts().reset_index(name='value')"
      ],
      "metadata": {
        "id": "zHjkVHUesbM3"
      },
      "execution_count": null,
      "outputs": []
    },
    {
      "cell_type": "code",
      "source": [
        "# Define as cores de nodos específicos\n",
        "colors = pc.qualitative.Plotly.copy()\n",
        "colors[1], colors[9] = 'coral', '#636EFA'\n",
        "colors.append('#EF553B')"
      ],
      "metadata": {
        "id": "hbnnT4AwsAVC"
      },
      "execution_count": null,
      "outputs": []
    },
    {
      "cell_type": "code",
      "source": [
        "colors, len(colors)"
      ],
      "metadata": {
        "colab": {
          "base_uri": "https://localhost:8080/"
        },
        "id": "kGO1Z3a437s-",
        "outputId": "cc083f32-549c-4e1b-c328-3089d644aeaa"
      },
      "execution_count": null,
      "outputs": [
        {
          "output_type": "execute_result",
          "data": {
            "text/plain": [
              "(['#636EFA',\n",
              "  'coral',\n",
              "  '#00CC96',\n",
              "  '#AB63FA',\n",
              "  '#FFA15A',\n",
              "  '#19D3F3',\n",
              "  '#FF6692',\n",
              "  '#B6E880',\n",
              "  '#FF97FF',\n",
              "  '#636EFA',\n",
              "  '#EF553B'],\n",
              " 11)"
            ]
          },
          "metadata": {},
          "execution_count": 38
        }
      ]
    },
    {
      "cell_type": "code",
      "source": [
        "# Plota o gráfico\n",
        "fig = go.Figure(data=[go.Sankey(\n",
        "    node=dict(\n",
        "        pad=20,\n",
        "        thickness=25,\n",
        "        label=labels,\n",
        "        color = colors\n",
        "    ),\n",
        "    link=dict(\n",
        "        source=sankey_df['source_id'],\n",
        "        target=sankey_df['target_id'],\n",
        "        value=sankey_df['value']\n",
        "    )\n",
        ")])"
      ],
      "metadata": {
        "id": "CpAUNHnK1fWE"
      },
      "execution_count": null,
      "outputs": []
    },
    {
      "cell_type": "code",
      "source": [
        "fig.update_layout(\n",
        "    #title_text=\"Distribuição de estudos\",\n",
        "    height=800,\n",
        "    width=1400,\n",
        "    font=dict(\n",
        "        size=24,\n",
        "        style=\"normal\",\n",
        "        color = 'black'\n",
        "    )\n",
        ")\n"
      ],
      "metadata": {
        "colab": {
          "base_uri": "https://localhost:8080/",
          "height": 817
        },
        "id": "mQsSW9Pgoxtd",
        "outputId": "d639f2a4-3050-4767-ee23-26eb6e7dadc7"
      },
      "execution_count": null,
      "outputs": [
        {
          "output_type": "display_data",
          "data": {
            "text/html": [
              "<html>\n",
              "<head><meta charset=\"utf-8\" /></head>\n",
              "<body>\n",
              "    <div>            <script src=\"https://cdnjs.cloudflare.com/ajax/libs/mathjax/2.7.5/MathJax.js?config=TeX-AMS-MML_SVG\"></script><script type=\"text/javascript\">if (window.MathJax && window.MathJax.Hub && window.MathJax.Hub.Config) {window.MathJax.Hub.Config({SVG: {font: \"STIX-Web\"}});}</script>                <script type=\"text/javascript\">window.PlotlyConfig = {MathJaxConfig: 'local'};</script>\n",
              "        <script charset=\"utf-8\" src=\"https://cdn.plot.ly/plotly-2.35.2.min.js\"></script>                <div id=\"d93d649b-e080-4f8d-83a9-a26727156f79\" class=\"plotly-graph-div\" style=\"height:800px; width:1400px;\"></div>            <script type=\"text/javascript\">                                    window.PLOTLYENV=window.PLOTLYENV || {};                                    if (document.getElementById(\"d93d649b-e080-4f8d-83a9-a26727156f79\")) {                    Plotly.newPlot(                        \"d93d649b-e080-4f8d-83a9-a26727156f79\",                        [{\"link\":{\"source\":[4,3,2,5,2,4,7,0,1,3,8,0,6,6,1,7],\"target\":[10,10,3,3,4,9,4,4,9,9,4,1,1,4,10,1],\"value\":[6,5,4,3,3,3,2,2,2,2,1,1,1,1,1,1]},\"node\":{\"color\":[\"#636EFA\",\"coral\",\"#00CC96\",\"#AB63FA\",\"#FFA15A\",\"#19D3F3\",\"#FF6692\",\"#B6E880\",\"#FF97FF\",\"#636EFA\",\"#EF553B\"],\"label\":[2022,\"Data-driven insights for decision-making\",2024,\"Promotion of engagement and motivation\",\"Learning support and personalization\",2019,2023,2025,2021,\"YES\",\"NO\"],\"pad\":20,\"thickness\":25},\"type\":\"sankey\"}],                        {\"template\":{\"data\":{\"histogram2dcontour\":[{\"type\":\"histogram2dcontour\",\"colorbar\":{\"outlinewidth\":0,\"ticks\":\"\"},\"colorscale\":[[0.0,\"#0d0887\"],[0.1111111111111111,\"#46039f\"],[0.2222222222222222,\"#7201a8\"],[0.3333333333333333,\"#9c179e\"],[0.4444444444444444,\"#bd3786\"],[0.5555555555555556,\"#d8576b\"],[0.6666666666666666,\"#ed7953\"],[0.7777777777777778,\"#fb9f3a\"],[0.8888888888888888,\"#fdca26\"],[1.0,\"#f0f921\"]]}],\"choropleth\":[{\"type\":\"choropleth\",\"colorbar\":{\"outlinewidth\":0,\"ticks\":\"\"}}],\"histogram2d\":[{\"type\":\"histogram2d\",\"colorbar\":{\"outlinewidth\":0,\"ticks\":\"\"},\"colorscale\":[[0.0,\"#0d0887\"],[0.1111111111111111,\"#46039f\"],[0.2222222222222222,\"#7201a8\"],[0.3333333333333333,\"#9c179e\"],[0.4444444444444444,\"#bd3786\"],[0.5555555555555556,\"#d8576b\"],[0.6666666666666666,\"#ed7953\"],[0.7777777777777778,\"#fb9f3a\"],[0.8888888888888888,\"#fdca26\"],[1.0,\"#f0f921\"]]}],\"heatmap\":[{\"type\":\"heatmap\",\"colorbar\":{\"outlinewidth\":0,\"ticks\":\"\"},\"colorscale\":[[0.0,\"#0d0887\"],[0.1111111111111111,\"#46039f\"],[0.2222222222222222,\"#7201a8\"],[0.3333333333333333,\"#9c179e\"],[0.4444444444444444,\"#bd3786\"],[0.5555555555555556,\"#d8576b\"],[0.6666666666666666,\"#ed7953\"],[0.7777777777777778,\"#fb9f3a\"],[0.8888888888888888,\"#fdca26\"],[1.0,\"#f0f921\"]]}],\"heatmapgl\":[{\"type\":\"heatmapgl\",\"colorbar\":{\"outlinewidth\":0,\"ticks\":\"\"},\"colorscale\":[[0.0,\"#0d0887\"],[0.1111111111111111,\"#46039f\"],[0.2222222222222222,\"#7201a8\"],[0.3333333333333333,\"#9c179e\"],[0.4444444444444444,\"#bd3786\"],[0.5555555555555556,\"#d8576b\"],[0.6666666666666666,\"#ed7953\"],[0.7777777777777778,\"#fb9f3a\"],[0.8888888888888888,\"#fdca26\"],[1.0,\"#f0f921\"]]}],\"contourcarpet\":[{\"type\":\"contourcarpet\",\"colorbar\":{\"outlinewidth\":0,\"ticks\":\"\"}}],\"contour\":[{\"type\":\"contour\",\"colorbar\":{\"outlinewidth\":0,\"ticks\":\"\"},\"colorscale\":[[0.0,\"#0d0887\"],[0.1111111111111111,\"#46039f\"],[0.2222222222222222,\"#7201a8\"],[0.3333333333333333,\"#9c179e\"],[0.4444444444444444,\"#bd3786\"],[0.5555555555555556,\"#d8576b\"],[0.6666666666666666,\"#ed7953\"],[0.7777777777777778,\"#fb9f3a\"],[0.8888888888888888,\"#fdca26\"],[1.0,\"#f0f921\"]]}],\"surface\":[{\"type\":\"surface\",\"colorbar\":{\"outlinewidth\":0,\"ticks\":\"\"},\"colorscale\":[[0.0,\"#0d0887\"],[0.1111111111111111,\"#46039f\"],[0.2222222222222222,\"#7201a8\"],[0.3333333333333333,\"#9c179e\"],[0.4444444444444444,\"#bd3786\"],[0.5555555555555556,\"#d8576b\"],[0.6666666666666666,\"#ed7953\"],[0.7777777777777778,\"#fb9f3a\"],[0.8888888888888888,\"#fdca26\"],[1.0,\"#f0f921\"]]}],\"mesh3d\":[{\"type\":\"mesh3d\",\"colorbar\":{\"outlinewidth\":0,\"ticks\":\"\"}}],\"scatter\":[{\"fillpattern\":{\"fillmode\":\"overlay\",\"size\":10,\"solidity\":0.2},\"type\":\"scatter\"}],\"parcoords\":[{\"type\":\"parcoords\",\"line\":{\"colorbar\":{\"outlinewidth\":0,\"ticks\":\"\"}}}],\"scatterpolargl\":[{\"type\":\"scatterpolargl\",\"marker\":{\"colorbar\":{\"outlinewidth\":0,\"ticks\":\"\"}}}],\"bar\":[{\"error_x\":{\"color\":\"#2a3f5f\"},\"error_y\":{\"color\":\"#2a3f5f\"},\"marker\":{\"line\":{\"color\":\"#E5ECF6\",\"width\":0.5},\"pattern\":{\"fillmode\":\"overlay\",\"size\":10,\"solidity\":0.2}},\"type\":\"bar\"}],\"scattergeo\":[{\"type\":\"scattergeo\",\"marker\":{\"colorbar\":{\"outlinewidth\":0,\"ticks\":\"\"}}}],\"scatterpolar\":[{\"type\":\"scatterpolar\",\"marker\":{\"colorbar\":{\"outlinewidth\":0,\"ticks\":\"\"}}}],\"histogram\":[{\"marker\":{\"pattern\":{\"fillmode\":\"overlay\",\"size\":10,\"solidity\":0.2}},\"type\":\"histogram\"}],\"scattergl\":[{\"type\":\"scattergl\",\"marker\":{\"colorbar\":{\"outlinewidth\":0,\"ticks\":\"\"}}}],\"scatter3d\":[{\"type\":\"scatter3d\",\"line\":{\"colorbar\":{\"outlinewidth\":0,\"ticks\":\"\"}},\"marker\":{\"colorbar\":{\"outlinewidth\":0,\"ticks\":\"\"}}}],\"scattermapbox\":[{\"type\":\"scattermapbox\",\"marker\":{\"colorbar\":{\"outlinewidth\":0,\"ticks\":\"\"}}}],\"scatterternary\":[{\"type\":\"scatterternary\",\"marker\":{\"colorbar\":{\"outlinewidth\":0,\"ticks\":\"\"}}}],\"scattercarpet\":[{\"type\":\"scattercarpet\",\"marker\":{\"colorbar\":{\"outlinewidth\":0,\"ticks\":\"\"}}}],\"carpet\":[{\"aaxis\":{\"endlinecolor\":\"#2a3f5f\",\"gridcolor\":\"white\",\"linecolor\":\"white\",\"minorgridcolor\":\"white\",\"startlinecolor\":\"#2a3f5f\"},\"baxis\":{\"endlinecolor\":\"#2a3f5f\",\"gridcolor\":\"white\",\"linecolor\":\"white\",\"minorgridcolor\":\"white\",\"startlinecolor\":\"#2a3f5f\"},\"type\":\"carpet\"}],\"table\":[{\"cells\":{\"fill\":{\"color\":\"#EBF0F8\"},\"line\":{\"color\":\"white\"}},\"header\":{\"fill\":{\"color\":\"#C8D4E3\"},\"line\":{\"color\":\"white\"}},\"type\":\"table\"}],\"barpolar\":[{\"marker\":{\"line\":{\"color\":\"#E5ECF6\",\"width\":0.5},\"pattern\":{\"fillmode\":\"overlay\",\"size\":10,\"solidity\":0.2}},\"type\":\"barpolar\"}],\"pie\":[{\"automargin\":true,\"type\":\"pie\"}]},\"layout\":{\"autotypenumbers\":\"strict\",\"colorway\":[\"#636efa\",\"#EF553B\",\"#00cc96\",\"#ab63fa\",\"#FFA15A\",\"#19d3f3\",\"#FF6692\",\"#B6E880\",\"#FF97FF\",\"#FECB52\"],\"font\":{\"color\":\"#2a3f5f\"},\"hovermode\":\"closest\",\"hoverlabel\":{\"align\":\"left\"},\"paper_bgcolor\":\"white\",\"plot_bgcolor\":\"#E5ECF6\",\"polar\":{\"bgcolor\":\"#E5ECF6\",\"angularaxis\":{\"gridcolor\":\"white\",\"linecolor\":\"white\",\"ticks\":\"\"},\"radialaxis\":{\"gridcolor\":\"white\",\"linecolor\":\"white\",\"ticks\":\"\"}},\"ternary\":{\"bgcolor\":\"#E5ECF6\",\"aaxis\":{\"gridcolor\":\"white\",\"linecolor\":\"white\",\"ticks\":\"\"},\"baxis\":{\"gridcolor\":\"white\",\"linecolor\":\"white\",\"ticks\":\"\"},\"caxis\":{\"gridcolor\":\"white\",\"linecolor\":\"white\",\"ticks\":\"\"}},\"coloraxis\":{\"colorbar\":{\"outlinewidth\":0,\"ticks\":\"\"}},\"colorscale\":{\"sequential\":[[0.0,\"#0d0887\"],[0.1111111111111111,\"#46039f\"],[0.2222222222222222,\"#7201a8\"],[0.3333333333333333,\"#9c179e\"],[0.4444444444444444,\"#bd3786\"],[0.5555555555555556,\"#d8576b\"],[0.6666666666666666,\"#ed7953\"],[0.7777777777777778,\"#fb9f3a\"],[0.8888888888888888,\"#fdca26\"],[1.0,\"#f0f921\"]],\"sequentialminus\":[[0.0,\"#0d0887\"],[0.1111111111111111,\"#46039f\"],[0.2222222222222222,\"#7201a8\"],[0.3333333333333333,\"#9c179e\"],[0.4444444444444444,\"#bd3786\"],[0.5555555555555556,\"#d8576b\"],[0.6666666666666666,\"#ed7953\"],[0.7777777777777778,\"#fb9f3a\"],[0.8888888888888888,\"#fdca26\"],[1.0,\"#f0f921\"]],\"diverging\":[[0,\"#8e0152\"],[0.1,\"#c51b7d\"],[0.2,\"#de77ae\"],[0.3,\"#f1b6da\"],[0.4,\"#fde0ef\"],[0.5,\"#f7f7f7\"],[0.6,\"#e6f5d0\"],[0.7,\"#b8e186\"],[0.8,\"#7fbc41\"],[0.9,\"#4d9221\"],[1,\"#276419\"]]},\"xaxis\":{\"gridcolor\":\"white\",\"linecolor\":\"white\",\"ticks\":\"\",\"title\":{\"standoff\":15},\"zerolinecolor\":\"white\",\"automargin\":true,\"zerolinewidth\":2},\"yaxis\":{\"gridcolor\":\"white\",\"linecolor\":\"white\",\"ticks\":\"\",\"title\":{\"standoff\":15},\"zerolinecolor\":\"white\",\"automargin\":true,\"zerolinewidth\":2},\"scene\":{\"xaxis\":{\"backgroundcolor\":\"#E5ECF6\",\"gridcolor\":\"white\",\"linecolor\":\"white\",\"showbackground\":true,\"ticks\":\"\",\"zerolinecolor\":\"white\",\"gridwidth\":2},\"yaxis\":{\"backgroundcolor\":\"#E5ECF6\",\"gridcolor\":\"white\",\"linecolor\":\"white\",\"showbackground\":true,\"ticks\":\"\",\"zerolinecolor\":\"white\",\"gridwidth\":2},\"zaxis\":{\"backgroundcolor\":\"#E5ECF6\",\"gridcolor\":\"white\",\"linecolor\":\"white\",\"showbackground\":true,\"ticks\":\"\",\"zerolinecolor\":\"white\",\"gridwidth\":2}},\"shapedefaults\":{\"line\":{\"color\":\"#2a3f5f\"}},\"annotationdefaults\":{\"arrowcolor\":\"#2a3f5f\",\"arrowhead\":0,\"arrowwidth\":1},\"geo\":{\"bgcolor\":\"white\",\"landcolor\":\"#E5ECF6\",\"subunitcolor\":\"white\",\"showland\":true,\"showlakes\":true,\"lakecolor\":\"white\"},\"title\":{\"x\":0.05},\"mapbox\":{\"style\":\"light\"}}},\"font\":{\"size\":24,\"style\":\"normal\",\"color\":\"black\"},\"height\":800,\"width\":1400},                        {\"responsive\": true}                    ).then(function(){\n",
              "                            \n",
              "var gd = document.getElementById('d93d649b-e080-4f8d-83a9-a26727156f79');\n",
              "var x = new MutationObserver(function (mutations, observer) {{\n",
              "        var display = window.getComputedStyle(gd).display;\n",
              "        if (!display || display === 'none') {{\n",
              "            console.log([gd, 'removed!']);\n",
              "            Plotly.purge(gd);\n",
              "            observer.disconnect();\n",
              "        }}\n",
              "}});\n",
              "\n",
              "// Listen for the removal of the full notebook cells\n",
              "var notebookContainer = gd.closest('#notebook-container');\n",
              "if (notebookContainer) {{\n",
              "    x.observe(notebookContainer, {childList: true});\n",
              "}}\n",
              "\n",
              "// Listen for the clearing of the current output cell\n",
              "var outputEl = gd.closest('.output');\n",
              "if (outputEl) {{\n",
              "    x.observe(outputEl, {childList: true});\n",
              "}}\n",
              "\n",
              "                        })                };                            </script>        </div>\n",
              "</body>\n",
              "</html>"
            ]
          },
          "metadata": {}
        }
      ]
    }
  ]
}